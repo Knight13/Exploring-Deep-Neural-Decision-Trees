{
 "cells": [
  {
   "cell_type": "code",
   "execution_count": 12,
   "metadata": {
    "collapsed": false
   },
   "outputs": [
    {
     "name": "stdout",
     "output_type": "stream",
     "text": [
      "['1', '0.766126609', '45', '2', '0.802982129', '9120', '13', '0', '6', '0', '2']\n"
     ]
    },
    {
     "ename": "IndexError",
     "evalue": "list index out of range",
     "output_type": "error",
     "traceback": [
      "\u001b[0;31m---------------------------------------------------------------------------\u001b[0m",
      "\u001b[0;31mIndexError\u001b[0m                                Traceback (most recent call last)",
      "\u001b[0;32m<ipython-input-12-c4a06bce6ad4>\u001b[0m in \u001b[0;36m<module>\u001b[0;34m()\u001b[0m\n\u001b[1;32m     22\u001b[0m \u001b[0;32mprint\u001b[0m \u001b[0mdata\u001b[0m\u001b[0;34m[\u001b[0m\u001b[0;36m0\u001b[0m\u001b[0;34m]\u001b[0m\u001b[0;34m\u001b[0m\u001b[0m\n\u001b[1;32m     23\u001b[0m \u001b[0;32mfor\u001b[0m \u001b[0mentry\u001b[0m \u001b[0;32min\u001b[0m \u001b[0mxrange\u001b[0m\u001b[0;34m(\u001b[0m\u001b[0mlen\u001b[0m\u001b[0;34m(\u001b[0m\u001b[0mdata\u001b[0m\u001b[0;34m)\u001b[0m\u001b[0;34m-\u001b[0m\u001b[0;36m1\u001b[0m\u001b[0;34m)\u001b[0m\u001b[0;34m:\u001b[0m\u001b[0;34m\u001b[0m\u001b[0m\n\u001b[0;32m---> 24\u001b[0;31m     \u001b[0;32mfor\u001b[0m \u001b[0;34m(\u001b[0m\u001b[0mindex\u001b[0m\u001b[0;34m,\u001b[0m \u001b[0mattribute\u001b[0m\u001b[0;34m)\u001b[0m \u001b[0;32min\u001b[0m \u001b[0menumerate\u001b[0m\u001b[0;34m(\u001b[0m\u001b[0mdata\u001b[0m\u001b[0;34m[\u001b[0m\u001b[0mentry\u001b[0m\u001b[0;34m]\u001b[0m\u001b[0;34m)\u001b[0m\u001b[0;34m:\u001b[0m\u001b[0;34m\u001b[0m\u001b[0m\n\u001b[0m\u001b[1;32m     25\u001b[0m         \u001b[0;32mtry\u001b[0m\u001b[0;34m:\u001b[0m\u001b[0;34m\u001b[0m\u001b[0m\n\u001b[1;32m     26\u001b[0m             \u001b[0mdata\u001b[0m\u001b[0;34m[\u001b[0m\u001b[0mentry\u001b[0m\u001b[0;34m]\u001b[0m\u001b[0;34m[\u001b[0m\u001b[0mindex\u001b[0m\u001b[0;34m]\u001b[0m \u001b[0;34m=\u001b[0m \u001b[0mfloat\u001b[0m\u001b[0;34m(\u001b[0m\u001b[0mattribute\u001b[0m\u001b[0;34m)\u001b[0m\u001b[0;34m\u001b[0m\u001b[0m\n",
      "\u001b[0;31mIndexError\u001b[0m: list index out of range"
     ]
    }
   ],
   "source": [
    "import numpy as np\n",
    "import csv\n",
    "\n",
    "data = []\n",
    "with open('cs-training.csv', 'rb') as f:\n",
    "    data_file = csv.reader(f, delimiter=' ', quotechar='|')\n",
    "    \n",
    "    for row in data_file:\n",
    "        data.append(row)\n",
    "        \n",
    "    del data[0]\n",
    "\n",
    "    f.closed\n",
    "    \n",
    "    \n",
    "for (index,entry) in enumerate(data):\n",
    "    entry[0].strip('\\n')\n",
    "    data[index] = entry[0].split(',')\n",
    "    del data[index][0]\n",
    "\n",
    "    \n",
    "print data[0]\n",
    "for entry in xrange(len(data)-1):\n",
    "    print entry\n",
    "    for (index, attribute) in enumerate(data[entry]):\n",
    "        try:\n",
    "            data[entry][index] = float(attribute)\n",
    "        except ValueError:\n",
    "            del data[entry]\n",
    "\n",
    "#print data\n",
    "\n",
    "for (n,i) in enumerate(data):\n",
    "    if i[0] == 1.0:\n",
    "        data[n][0] = [1,0]\n",
    "    else:\n",
    "        data[n][0] = [0,1]\n",
    "\n",
    "#feature = np.vstack(np.array(i[1:], dtype = np.float32) for i in data)\n",
    "#label = np.vstack(np.array(i[0], dtype = np.float32) for i in data)\n",
    "\n",
    "\n",
    "#feature"
   ]
  },
  {
   "cell_type": "code",
   "execution_count": 10,
   "metadata": {
    "collapsed": false
   },
   "outputs": [
    {
     "name": "stdout",
     "output_type": "stream",
     "text": [
      "0 1.0\n",
      "1 0.766126609\n",
      "2 45.0\n",
      "3 2.0\n",
      "4 0.802982129\n",
      "5 9120.0\n",
      "6 13.0\n",
      "7 0.0\n",
      "8 6.0\n",
      "9 0.0\n",
      "10 2.0\n"
     ]
    }
   ],
   "source": [
    "for (i,j) in enumerate(data[0]):\n",
    "    print i, j"
   ]
  },
  {
   "cell_type": "code",
   "execution_count": null,
   "metadata": {
    "collapsed": false
   },
   "outputs": [],
   "source": []
  },
  {
   "cell_type": "code",
   "execution_count": null,
   "metadata": {
    "collapsed": true
   },
   "outputs": [],
   "source": []
  }
 ],
 "metadata": {
  "kernelspec": {
   "display_name": "Python 2",
   "language": "python",
   "name": "python2"
  },
  "language_info": {
   "codemirror_mode": {
    "name": "ipython",
    "version": 2
   },
   "file_extension": ".py",
   "mimetype": "text/x-python",
   "name": "python",
   "nbconvert_exporter": "python",
   "pygments_lexer": "ipython2",
   "version": "2.7.13"
  }
 },
 "nbformat": 4,
 "nbformat_minor": 2
}
