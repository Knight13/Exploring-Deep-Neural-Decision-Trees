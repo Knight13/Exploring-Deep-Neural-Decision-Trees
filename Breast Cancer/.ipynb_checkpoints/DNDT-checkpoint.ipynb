{
 "cells": [
  {
   "cell_type": "code",
   "execution_count": 3,
   "metadata": {
    "collapsed": false
   },
   "outputs": [
    {
     "name": "stdout",
     "output_type": "stream",
     "text": [
      "(683, 9)\n",
      "[1, 1, 1, 1, 1, 1, 1, 1, 1]\n"
     ]
    }
   ],
   "source": [
    "import numpy as np\n",
    "import tensorflow as tf\n",
    "import cancer_data\n",
    "import matplotlib.pyplot as plt\n",
    "#from neural_network_decision_tree import nn_decision_tree\n",
    "import time\n",
    "%matplotlib inline\n",
    "\n",
    "def tf_kron_prod(a, b):\n",
    "    dim_a = a.get_shape().as_list()[-1]\n",
    "    dim_b = b.get_shape().as_list()[-1]\n",
    "    res = tf.reshape(tf.matmul(tf.reshape(a, [-1, dim_a, 1]), tf.reshape(b, [-1, 1, dim_b])), [-1, dim_a * dim_b])\n",
    "    return res\n",
    "\n",
    "def tf_bin(x, cut_points, temperature=10):\n",
    "    # x is a N-by-1 matrix (column vector)\n",
    "    # cut_points is a D-dim vector (D is the number of cut-points)\n",
    "    # this function produces a N-by-(D+1) matrix, each row has only one element being one and the rest are all zeros\n",
    "    x = tf.cast(x, tf.float32)\n",
    "    D = cut_points.get_shape().as_list()[0]\n",
    "    cut_points = -tf.nn.top_k(-cut_points, D)[0]  # make sure cut_points is monotonically increasing\n",
    "    W = tf.reshape(tf.linspace(1.0, D + 1.0, D + 1), [1, -1])\n",
    "    b = tf.cumsum(tf.concat([tf.constant(0.0, shape=[1]), -cut_points],0))\n",
    "    h = tf.matmul(x, W) + b\n",
    "    res = tf.nn.softmax(h * temperature)\n",
    "    return res\n",
    "\n",
    "\n",
    "def nn_decision_tree(x, cut_points_list, leaf_score, temperature=10):\n",
    "    # cut_points_list contains the cut_points for each dimension of feature\n",
    "    leaf = reduce(tf_kron_prod,\n",
    "                  map(lambda z: tf_bin(x[:, z[0]:z[0] + 1], z[1], temperature), enumerate(cut_points_list)))\n",
    "    return tf.matmul(leaf, leaf_score)\n",
    "\n",
    "\n",
    "\n",
    "data = []\n",
    "with open('breast_cancer_data.txt', 'r+') as f:\n",
    "    for line in f:\n",
    "        line = line.rstrip('\\n')\n",
    "        i = line.split(',')\n",
    "        data.append(i[1:])\n",
    "\n",
    "    f.closed\n",
    "\n",
    "for entry in data:\n",
    "    for (index, attribute) in enumerate(entry):\n",
    "        try:\n",
    "            entry[index] = int(attribute)\n",
    "        except ValueError:\n",
    "            data.remove(entry)\n",
    "\n",
    "for (n,i) in enumerate(data):\n",
    "    if i[-1:][0] == 2:\n",
    "        data[n][len(i)-1] = [1,0]\n",
    "\n",
    "    else:\n",
    "        data[n][len(i)-1] = [0,1]\n",
    "\n",
    "\n",
    "feature = np.vstack(np.array(i[:-1], dtype = np.float32) for i in data)\n",
    "label = np.vstack([np.array(i[-1:], dtype = np.float32) for i in data])\n",
    "\n",
    "\n",
    "x = feature\n",
    "y = label\n",
    "d = x.shape[1]\n",
    "num_cut = []\n",
    "\n",
    "for features in xrange(d):\n",
    "    num_cut.append(1)\n",
    "    \n",
    "num_leaf = np.prod(np.array(num_cut) + 1)\n",
    "num_class = 2\n",
    "\n",
    "print y.shape\n",
    "print num_cut\n",
    "\n",
    "sess = tf.InteractiveSession()\n",
    "tf.set_random_seed(1990)"
   ]
  },
  {
   "cell_type": "code",
   "execution_count": 4,
   "metadata": {
    "collapsed": false
   },
   "outputs": [
    {
     "name": "stdout",
     "output_type": "stream",
     "text": [
      "(?, 9)\n"
     ]
    }
   ],
   "source": [
    "x_ph = tf.placeholder(tf.float32, [None, d])\n",
    "y_ph = tf.placeholder(tf.float32, [None, num_class])\n",
    "\n",
    "print x_ph.shape"
   ]
  },
  {
   "cell_type": "code",
   "execution_count": 3,
   "metadata": {
    "collapsed": true
   },
   "outputs": [],
   "source": [
    "cut_points_list = [tf.Variable(tf.random_uniform([i])) for i in num_cut]\n",
    "leaf_score = tf.Variable(tf.random_uniform([num_leaf, num_class]))"
   ]
  },
  {
   "cell_type": "code",
   "execution_count": 4,
   "metadata": {
    "collapsed": false
   },
   "outputs": [],
   "source": [
    "\n",
    "y_pred = nn_decision_tree(x_ph, cut_points_list, leaf_score, temperature=10)\n",
    "loss = tf.reduce_mean(tf.nn.softmax_cross_entropy_with_logits(logits=y_pred, labels=y_ph))\n"
   ]
  },
  {
   "cell_type": "code",
   "execution_count": 5,
   "metadata": {
    "collapsed": true
   },
   "outputs": [],
   "source": [
    "opt = tf.train.AdamOptimizer(0.1)\n",
    "train_step = opt.minimize(loss)"
   ]
  },
  {
   "cell_type": "code",
   "execution_count": 6,
   "metadata": {
    "collapsed": false
   },
   "outputs": [
    {
     "name": "stdout",
     "output_type": "stream",
     "text": [
      "WARNING:tensorflow:From <ipython-input-6-063867a2f900>:3: initialize_all_variables (from tensorflow.python.ops.variables) is deprecated and will be removed after 2017-03-02.\n",
      "Instructions for updating:\n",
      "Use `tf.global_variables_initializer` instead.\n",
      "0.770623\n",
      "0.162021\n",
      "0.160389\n",
      "0.148578\n",
      "0.146838\n",
      "error rate 0.04\n",
      "--- 6.06926202774 seconds ---\n"
     ]
    }
   ],
   "source": [
    "start_time = time.time()\n",
    "\n",
    "sess.run(tf.initialize_all_variables())\n",
    "\n",
    "for i in range(1000):\n",
    "    _, loss_e = sess.run([train_step, loss], feed_dict={x_ph: x, y_ph: y})\n",
    "    if i % 200 == 0:\n",
    "        print(loss_e)\n",
    "print('error rate %.2f' % (1 - np.mean(np.argmax(y_pred.eval(feed_dict={x_ph: x}), axis=1) == np.argmax(y, axis=1))))\n",
    "print(\"--- %s seconds ---\" % (time.time() - start_time))"
   ]
  },
  {
   "cell_type": "code",
   "execution_count": null,
   "metadata": {
    "collapsed": true
   },
   "outputs": [],
   "source": []
  }
 ],
 "metadata": {
  "kernelspec": {
   "display_name": "Python 2",
   "language": "python",
   "name": "python2"
  },
  "language_info": {
   "codemirror_mode": {
    "name": "ipython",
    "version": 2
   },
   "file_extension": ".py",
   "mimetype": "text/x-python",
   "name": "python",
   "nbconvert_exporter": "python",
   "pygments_lexer": "ipython2",
   "version": "2.7.13"
  }
 },
 "nbformat": 4,
 "nbformat_minor": 2
}
