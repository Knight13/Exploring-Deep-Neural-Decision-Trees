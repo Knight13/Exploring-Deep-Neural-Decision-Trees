{
 "cells": [
  {
   "cell_type": "code",
   "execution_count": 45,
   "metadata": {
    "collapsed": false
   },
   "outputs": [
    {
     "name": "stdout",
     "output_type": "stream",
     "text": [
      "2.28191370596\n",
      "--- 15.5111410618 seconds ---\n"
     ]
    }
   ],
   "source": [
    "import numpy as np\n",
    "import random\n",
    "#import cancer_data\n",
    "import matplotlib.pyplot as plt\n",
    "from sklearn import tree\n",
    "from sklearn.model_selection import KFold\n",
    "from sklearn.metrics import log_loss\n",
    "import time\n",
    "%matplotlib inline\n",
    "\n",
    "data = []\n",
    "with open('breast_cancer_data.txt', 'r+') as f:\n",
    "    for line in f:\n",
    "        line = line.rstrip('\\n')\n",
    "        i = line.split(',')\n",
    "        data.append(i[1:])\n",
    "\n",
    "    f.closed\n",
    "\n",
    "for entry in data:\n",
    "    for (index, attribute) in enumerate(entry):\n",
    "        try:\n",
    "            entry[index] = int(attribute)\n",
    "        except ValueError:\n",
    "            data.remove(entry)\n",
    "\n",
    "for (n,i) in enumerate(data):\n",
    "    if i[-1:][0] == 2:\n",
    "        data[n][len(i)-1] = [1,0]\n",
    "        \n",
    "    else:\n",
    "        data[n][len(i)-1] = [0,1]\n",
    "        \n",
    "        \n",
    "feature = np.vstack(np.array(i[:-1], dtype = np.float32) for i in data)\n",
    "label = np.vstack([np.array(i[-1:], dtype = np.float32) for i in data])\n",
    "\n",
    "\n",
    "x = feature\n",
    "y = label\n",
    "\n",
    "seed = random.seed(1990)\n",
    "kf = KFold(n_splits=10, random_state=seed, shuffle= False)\n",
    "\n",
    "clf = tree.DecisionTreeClassifier()\n",
    "\n",
    "loss = []\n",
    "\n",
    "start_time = time.time()\n",
    "\n",
    "for i in xrange(1000):\n",
    "    for train_index, test_index in kf.split(x):\n",
    "        #print(\"TRAIN:\", train_index, \"TEST:\", test_index)\n",
    "        X_train, X_test = x[train_index], x[test_index]\n",
    "        y_train, y_test = y[train_index], y[test_index]\n",
    "        clf = clf.fit(X_train, y_train)\n",
    "        y_pred = clf.predict(X_test)\n",
    "        loss.append(log_loss(y_test, y_pred))\n",
    "\n",
    "print np.average(loss)\n",
    "print \"--- %s seconds ---\" % (time.time() - start_time)"
   ]
  },
  {
   "cell_type": "code",
   "execution_count": 47,
   "metadata": {
    "collapsed": false
   },
   "outputs": [
    {
     "name": "stdout",
     "output_type": "stream",
     "text": [
      "0.934233844842\n",
      "--- 14.2511599064 seconds ---\n"
     ]
    }
   ],
   "source": [
    "from sklearn.metrics import accuracy_score\n",
    "\n",
    "\n",
    "seed = random.seed(1990)\n",
    "kf = KFold(n_splits=10, random_state=seed, shuffle= True)\n",
    "\n",
    "clf = tree.DecisionTreeClassifier()\n",
    "\n",
    "acc = []\n",
    "\n",
    "start_time = time.time()\n",
    "\n",
    "for i in xrange(1000):\n",
    "    for train_index, test_index in kf.split(x):\n",
    "        #print(\"TRAIN:\", train_index, \"TEST:\", test_index)\n",
    "        X_train, X_test = x[train_index], x[test_index]\n",
    "        y_train, y_test = y[train_index], y[test_index]\n",
    "        clf = clf.fit(X_train, y_train)\n",
    "        y_pred = clf.predict(X_test)\n",
    "\n",
    "        acc.append(accuracy_score(y_test, y_pred))\n",
    "\n",
    "print np.average(acc)\n",
    "print \"--- %s seconds ---\" % (time.time() - start_time)"
   ]
  },
  {
   "cell_type": "code",
   "execution_count": null,
   "metadata": {
    "collapsed": true
   },
   "outputs": [],
   "source": []
  }
 ],
 "metadata": {
  "kernelspec": {
   "display_name": "Python 2",
   "language": "python",
   "name": "python2"
  },
  "language_info": {
   "codemirror_mode": {
    "name": "ipython",
    "version": 2
   },
   "file_extension": ".py",
   "mimetype": "text/x-python",
   "name": "python",
   "nbconvert_exporter": "python",
   "pygments_lexer": "ipython2",
   "version": "2.7.13"
  }
 },
 "nbformat": 4,
 "nbformat_minor": 2
}
