{
 "cells": [
  {
   "cell_type": "code",
   "execution_count": 3,
   "metadata": {
    "collapsed": false
   },
   "outputs": [],
   "source": [
    "import numpy as np\n",
    "import tensorflow as tf\n",
    "import cancer_data\n",
    "import matplotlib.pyplot as plt\n",
    "from sklearn.metrics import accuracy_score\n",
    "%matplotlib inline\n",
    "\n",
    "data = []\n",
    "with open('breast_cancer_data.txt', 'r+') as f:\n",
    "    for line in f:\n",
    "        line = line.rstrip('\\n')\n",
    "        i = line.split(',')\n",
    "        data.append(i[1:])\n",
    "\n",
    "    f.closed\n",
    "\n",
    "for entry in data:\n",
    "    for (index, attribute) in enumerate(entry):\n",
    "        try:\n",
    "            entry[index] = int(attribute)\n",
    "        except ValueError:\n",
    "            data.remove(entry)\n",
    "\n",
    "for (n,i) in enumerate(data):\n",
    "    if i[-1:][0] == 2:\n",
    "        data[n][len(i)-1] = [1,0]\n",
    "        \n",
    "    else:\n",
    "        data[n][len(i)-1] = [0,1]\n",
    "        \n",
    "        \n",
    "feature = np.vstack(np.array(i[:-1], dtype = np.float32) for i in data)\n",
    "label = np.vstack([np.array(i[-1:], dtype = np.float32) for i in data])\n",
    "\n",
    "\n",
    "\n",
    "x = feature\n",
    "y = label\n",
    "d = x.shape[1]\n",
    "\n",
    "sess = tf.InteractiveSession()\n",
    "tf.set_random_seed(1990)\n",
    "\n",
    "num_class = 2\n"
   ]
  },
  {
   "cell_type": "code",
   "execution_count": 4,
   "metadata": {
    "collapsed": false
   },
   "outputs": [],
   "source": [
    "x_ph = tf.placeholder(tf.float32, [None, d])\n",
    "y_ph = tf.placeholder(tf.float32, [None, num_class])"
   ]
  },
  {
   "cell_type": "code",
   "execution_count": null,
   "metadata": {
    "collapsed": true
   },
   "outputs": [],
   "source": [
    "y_pred = tf.\n",
    "loss = tf.reduce_mean(tf.nn.softmax_cross_entropy_with_logits(logits=y_pred, labels=y_ph))"
   ]
  }
 ],
 "metadata": {
  "kernelspec": {
   "display_name": "Python 2",
   "language": "python",
   "name": "python2"
  },
  "language_info": {
   "codemirror_mode": {
    "name": "ipython",
    "version": 2
   },
   "file_extension": ".py",
   "mimetype": "text/x-python",
   "name": "python",
   "nbconvert_exporter": "python",
   "pygments_lexer": "ipython2",
   "version": "2.7.13"
  }
 },
 "nbformat": 4,
 "nbformat_minor": 2
}
